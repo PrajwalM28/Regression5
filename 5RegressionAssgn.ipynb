{
 "cells": [
  {
   "cell_type": "markdown",
   "id": "db83795b-2d51-43a0-ae9c-277e955b8aab",
   "metadata": {},
   "source": [
    "# Q1.\n",
    "### What is Elastic Net Regression and how does it differ from other regression techniques?"
   ]
  },
  {
   "cell_type": "markdown",
   "id": "9d3ec5b3-3238-477a-a541-c9d76dce2687",
   "metadata": {},
   "source": [
    "- Elastic Net Regression is a regression technique that combines the penalties of both L1 (Lasso) and L2 (Ridge) regularization methods. It aims to address some of the limitations of each technique by simultaneously penalizing the absolute size of the coefficients  and the squared size of the coefficients."
   ]
  },
  {
   "cell_type": "markdown",
   "id": "654b7062-932e-4346-95bf-923ed603faa2",
   "metadata": {},
   "source": [
    "# Q2.\n",
    "### How do you choose the optimal values of the regularization parameters for Elastic Net Regression?"
   ]
  },
  {
   "cell_type": "markdown",
   "id": "223350a5-a576-4888-8ff5-13a7ae66daed",
   "metadata": {},
   "source": [
    "- using techniques like cross-validation. Grid search or randomized search can be employed to search over a range of values."
   ]
  },
  {
   "cell_type": "markdown",
   "id": "7b3fe3d6-798c-441d-9127-42f67cc55884",
   "metadata": {},
   "source": [
    "# Q3.\n",
    "### What are the advantages and disadvantages of Elastic Net Regression?"
   ]
  },
  {
   "cell_type": "markdown",
   "id": "8efbf484-7554-4fa2-b41f-4e48387a6bb4",
   "metadata": {},
   "source": [
    "- Advantages \n",
    "    - Elastic Net Regression include its ability to handle multicollinearity, feature selection, and regularization. \n",
    "    \n",
    "- Disadvantages \n",
    "    -  it may not perform well when there are many irrelevant features in the dataset, and it requires tuning of hyperparameters. "
   ]
  },
  {
   "cell_type": "markdown",
   "id": "de514d30-8801-4194-8431-06675745f839",
   "metadata": {},
   "source": [
    "# Q4.\n",
    "### What are some common use cases for Elastic Net Regression?"
   ]
  },
  {
   "cell_type": "markdown",
   "id": "11ab79f1-ad35-4b6b-9e22-d60325a66859",
   "metadata": {},
   "source": [
    "-  used in various fields such as finance, economics, genetics, and healthcare for tasks like predicting stock prices, analyzing the relationship between variables, and building predictive models for disease diagnosis."
   ]
  },
  {
   "cell_type": "markdown",
   "id": "412e13e6-bcd8-470c-a90c-5fb2d06610d4",
   "metadata": {},
   "source": [
    "# Q5.\n",
    "###  How do you interpret the coefficients in Elastic Net Regression?"
   ]
  },
  {
   "cell_type": "markdown",
   "id": "1b57594b-da0f-4e28-87a7-23308c624585",
   "metadata": {},
   "source": [
    "- The coefficients in Elastic Net Regression represent the effect of each predictor variable on the target variable. A positive coefficient indicates a positive relationship, while a negative coefficient indicates a negative relationship. The magnitude of the coefficient reflects the strength of the relationship after penalizing for model complexity."
   ]
  },
  {
   "cell_type": "markdown",
   "id": "3b3c524a-287b-450c-860f-674a1109766d",
   "metadata": {},
   "source": [
    "# Q6.\n",
    "###  How do you handle missing values when using Elastic Net Regression?"
   ]
  },
  {
   "cell_type": "markdown",
   "id": "31626c48-2d08-4572-b2f0-08542db6aafd",
   "metadata": {},
   "source": [
    "- by imputing them with the mean, median, or mode of the respective feature, or using more advanced imputation techniques such as K-nearest neighbors imputation or iterative imputation."
   ]
  },
  {
   "cell_type": "markdown",
   "id": "68c29db2-320f-4115-9380-bca28fc34f4b",
   "metadata": {},
   "source": [
    "# Q7.\n",
    "### How do you use Elastic Net Regression for feature selection?"
   ]
  },
  {
   "cell_type": "markdown",
   "id": "ccddf9a6-08c3-469e-80b9-b7ea0fb89b04",
   "metadata": {},
   "source": [
    "- Elastic Net Regression can be used for feature selection by examining the coefficients of the model. Features with non-zero coefficients are considered important and can be selected for further analysis, while features with zero coefficients are considered less important and can be excluded."
   ]
  },
  {
   "cell_type": "markdown",
   "id": "fc1eacd5-00c8-47c2-b7d3-1d096485f711",
   "metadata": {},
   "source": [
    "# Q8.\n",
    "### How do you pickle and unpickle a trained Elastic Net Regression model in Python?"
   ]
  },
  {
   "cell_type": "markdown",
   "id": "323513a3-79a9-4dae-8c75-5d3bff76b277",
   "metadata": {},
   "source": [
    "- you can pickle and unpickle a trained Elastic Net Regression model using the 'pickle' module. You can save the trained model to a file using 'pickle.dump()' and load it back using 'pickle.load()'. "
   ]
  },
  {
   "cell_type": "markdown",
   "id": "ae6b323c-33f5-4838-b25d-70f91f96599c",
   "metadata": {},
   "source": [
    "# Q9.\n",
    "### What is the purpose of pickling a model in machine learning?"
   ]
  },
  {
   "cell_type": "markdown",
   "id": "ebead67d-4b8f-42e0-9987-373d7e6be7ec",
   "metadata": {},
   "source": [
    "- The purpose of pickling a model in machine learning is to save the trained model to a file so that it can be reused later without needing to retrain it from scratch. Pickling allows you to store the model's parameters, including coefficients and hyperparameters, preserving the trained model's state for deployment or further analysis."
   ]
  }
 ],
 "metadata": {
  "kernelspec": {
   "display_name": "Python 3 (ipykernel)",
   "language": "python",
   "name": "python3"
  },
  "language_info": {
   "codemirror_mode": {
    "name": "ipython",
    "version": 3
   },
   "file_extension": ".py",
   "mimetype": "text/x-python",
   "name": "python",
   "nbconvert_exporter": "python",
   "pygments_lexer": "ipython3",
   "version": "3.10.8"
  }
 },
 "nbformat": 4,
 "nbformat_minor": 5
}
